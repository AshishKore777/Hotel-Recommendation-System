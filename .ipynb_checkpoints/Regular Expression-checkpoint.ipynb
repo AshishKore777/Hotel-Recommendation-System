{
 "cells": [
  {
   "cell_type": "markdown",
   "metadata": {},
   "source": [
    "Functions of re module\n",
    "\n",
    "findall -> Returns a list containing all matches\n",
    "sea"
   ]
  },
  {
   "cell_type": "code",
   "execution_count": 4,
   "metadata": {},
   "outputs": [],
   "source": [
    "st=r\"MY name is ashish\\nfrom sistec\""
   ]
  },
  {
   "cell_type": "code",
   "execution_count": 5,
   "metadata": {},
   "outputs": [
    {
     "name": "stdout",
     "output_type": "stream",
     "text": [
      "MY name is ashish\\nfrom sistec\n"
     ]
    }
   ],
   "source": [
    "print(st)"
   ]
  },
  {
   "cell_type": "code",
   "execution_count": 27,
   "metadata": {},
   "outputs": [
    {
     "name": "stdout",
     "output_type": "stream",
     "text": [
      "0\n"
     ]
    }
   ],
   "source": [
    "st=\"rain in India.Today its not raining in Bhopal\"\n",
    "\n",
    "import re\n",
    "rea=re.search(r\"rain\",st)\n",
    "print(rea.start())"
   ]
  },
  {
   "cell_type": "code",
   "execution_count": 28,
   "metadata": {},
   "outputs": [
    {
     "name": "stdout",
     "output_type": "stream",
     "text": [
      "['rain', 'rain']\n"
     ]
    }
   ],
   "source": [
    "rea=re.findall(r\"rain\",st)\n",
    "print(rea)"
   ]
  },
  {
   "cell_type": "code",
   "execution_count": 35,
   "metadata": {},
   "outputs": [
    {
     "name": "stdout",
     "output_type": "stream",
     "text": [
      "['The ', ' in India.Today its not ', 'ing in Bhopal']\n"
     ]
    }
   ],
   "source": [
    "st=\"The rain in India.Today its not raining in Bhopal\"\n",
    "\n",
    "import re\n",
    "rea=re.split(r\"rain\",st)\n",
    "print(rea)"
   ]
  },
  {
   "cell_type": "code",
   "execution_count": 48,
   "metadata": {},
   "outputs": [
    {
     "name": "stdout",
     "output_type": "stream",
     "text": [
      "The\n"
     ]
    }
   ],
   "source": [
    "rea=re.match(r\"The\",st)\n",
    "print(rea.group())"
   ]
  },
  {
   "cell_type": "code",
   "execution_count": 43,
   "metadata": {},
   "outputs": [
    {
     "name": "stdout",
     "output_type": "stream",
     "text": [
      "The rain in India.Today its not raining in Bhopal\n"
     ]
    }
   ],
   "source": [
    "rea=re.sub(r\"raing\",\"rain\",st)\n",
    "print(rea)"
   ]
  },
  {
   "cell_type": "code",
   "execution_count": 45,
   "metadata": {},
   "outputs": [
    {
     "name": "stdout",
     "output_type": "stream",
     "text": [
      "The rain in India.Today its not rain in Bhopal\n"
     ]
    }
   ],
   "source": [
    "rea=re.sub(r\"raining\",\"rain\",st,count=2)\n",
    "print(rea)"
   ]
  },
  {
   "cell_type": "code",
   "execution_count": 39,
   "metadata": {},
   "outputs": [
    {
     "data": {
      "text/plain": [
       "'The raining in India.Today its not raining in Bhopal'"
      ]
     },
     "execution_count": 39,
     "metadata": {},
     "output_type": "execute_result"
    }
   ],
   "source": [
    "rea"
   ]
  },
  {
   "cell_type": "code",
   "execution_count": 40,
   "metadata": {},
   "outputs": [
    {
     "name": "stdout",
     "output_type": "stream",
     "text": [
      "The rain in India.Today its not rain in Bhopal\n"
     ]
    }
   ],
   "source": [
    "rea=re.sub(r\"raining\",\"rain\",st,count=1)\n",
    "print(rea)"
   ]
  },
  {
   "cell_type": "code",
   "execution_count": 42,
   "metadata": {},
   "outputs": [
    {
     "data": {
      "text/plain": [
       "'The rain in India.Today its not raining in Bhopal'"
      ]
     },
     "execution_count": 42,
     "metadata": {},
     "output_type": "execute_result"
    }
   ],
   "source": [
    "st"
   ]
  },
  {
   "cell_type": "code",
   "execution_count": null,
   "metadata": {},
   "outputs": [],
   "source": [
    "rea=re.sub(r\"rain\",\"raining\",st)\n",
    "print(rea)"
   ]
  },
  {
   "cell_type": "markdown",
   "metadata": {},
   "source": [
    "Special Sequence Character\n",
    "\n",
    "\\A Returns a match if the specified charecters are at the beginning of the string (\\AThe)\n",
    "\\b Returns a match where the specified charecters are at the beginning or at the end os a word\n",
    "\\B Returns a match where the specified charecters are present, but not at the beginning or at the end of a word\n",
    "\\d Returns a match where the string contains digits(numbers from 0-9)\n",
    "\\D Returns a match where the string does not contain digits\n",
    "\\s Returns a match where the where the string contains a white space charecter\n",
    "\\S Returns a match where the string does not contains a white space charecter\n",
    "\\w Returns a match where the string contain any word or character\n",
    "\\W Returns a match where the string does not contain any word or character\n",
    "\\Z Returns a match if specified character are at the end of the string"
   ]
  },
  {
   "cell_type": "code",
   "execution_count": null,
   "metadata": {},
   "outputs": [],
   "source": [
    "Metacharacter - Metacharacters are characters with a special meaning.\n",
    "\n",
    "# [] A set of character\n",
    "\n",
    "# \\ Signals a special sequence (can also be use to escape special characters)\n",
    "\n",
    "# . Any Chracter except newline\n",
    "\n",
    "# ^ starts with\n",
    "\n",
    "# $ End with\n",
    "\n",
    "# * zero or more occurrence\n",
    "\n",
    "# + one or more occurrence\n",
    "\n",
    "# {} exactly the no of occurrence\n",
    "\n",
    "# | Either or\n",
    "\n",
    "# () capture and group\n",
    "\n"
   ]
  },
  {
   "cell_type": "code",
   "execution_count": null,
   "metadata": {},
   "outputs": [],
   "source": []
  }
 ],
 "metadata": {
  "kernelspec": {
   "display_name": "Python 3",
   "language": "python",
   "name": "python3"
  },
  "language_info": {
   "codemirror_mode": {
    "name": "ipython",
    "version": 3
   },
   "file_extension": ".py",
   "mimetype": "text/x-python",
   "name": "python",
   "nbconvert_exporter": "python",
   "pygments_lexer": "ipython3",
   "version": "3.7.3"
  }
 },
 "nbformat": 4,
 "nbformat_minor": 2
}
